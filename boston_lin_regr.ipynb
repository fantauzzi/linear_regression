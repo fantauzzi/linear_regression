{
 "cells": [
  {
   "cell_type": "code",
   "execution_count": 1,
   "id": "26c39feb",
   "metadata": {
    "pycharm": {
     "name": "#%%\n"
    }
   },
   "outputs": [],
   "source": [
    "import numpy as np\n",
    "import pandas as pd\n",
    "import seaborn as sns\n",
    "import warnings\n",
    "from matplotlib import pyplot as plt\n",
    "import matplotlib as mpl\n",
    "from pandas import DataFrame, Series\n",
    "from sklearn import datasets\n",
    "from sklearn.linear_model import LinearRegression\n",
    "from sklearn.metrics import mean_squared_error\n",
    "from sklearn.feature_selection import f_regression, SequentialFeatureSelector, mutual_info_regression\n",
    "import statsmodels.api as sm\n",
    "from utils import load_boston_housing_market, forward_select\n",
    "\n",
    "plt.ioff()\n",
    "pd.set_option('display.max_columns', None)  # Print all the columns in the dataframe\n",
    "pd.set_option('display.expand_frame_repr', False)  # Prevents line breaks while printing the dataframe\n",
    "mpl.rcParams['figure.figsize'] = (6 * 1.618, 6)\n",
    "\n",
    "# Set the default resolution for plots on screen\n",
    "display_res = (2560, 1440)  # Display resolution in pixels, h x v\n",
    "diagonal_in = 27  # Display diagonal in inches\n",
    "res_dpi = (display_res[0] ** 2 + display_res[1] ** 2) ** .5 / diagonal_in\n",
    "plt.rcParams['figure.dpi'] = res_dpi\n",
    "\n",
    "# By default, display grids in plot\n",
    "mpl.rcParams['axes.grid'] = True"
   ]
  },
  {
   "cell_type": "markdown",
   "id": "850572e5",
   "metadata": {
    "cell_marker": "\"\"\"",
    "pycharm": {
     "name": "#%% md\n"
    },
    "region_name": "md"
   },
   "source": [
    "This is an exploration of linear regression, and different tools available to solve it with Python.\n",
    "The dataset of choice is the [Boston Housing Prices](http://lib.stat.cmu.edu/datasets/boston)\n",
    "\n",
    "Here for reference the meaning of the variables, taken from the [dataset description](https://bit.ly/3yqTZnL)\n",
    "- CRIM - per capita crime rate by town\n",
    "- ZN - proportion of residential land zoned for lots over 25,000 sq.ft.\n",
    "- INDUS - proportion of non-retail business acres per town.\n",
    "- CHAS - Charles River dummy variable (1 if tract bounds river; 0 otherwise)\n",
    "- NOX - nitric oxides concentration (parts per 10 million)\n",
    "- RM - average number of rooms per dwelling\n",
    "- AGE - proportion of owner-occupied units built prior to 1940\n",
    "- DIS - weighted distances to five Boston employment centres\n",
    "- RAD - index of accessibility to radial highways\n",
    "- TAX - full-value property-tax rate per $10,000\n",
    "- PTRATIO - pupil-teacher ratio by town\n",
    "- B - 1000(Bk - 0.63)\\^2 where Bk is the proportion of blacks by town \\[Note: dropped from this dataset\\]\n",
    "- LSTAT - \\% lower status of the population\n",
    "- MEDV - Median value of owner-occupied homes in thousands USD\n",
    "\n",
    "\n",
    "Feth the dataset from its original source, and load it."
   ]
  },
  {
   "cell_type": "code",
   "execution_count": 2,
   "id": "0728acdc",
   "metadata": {
    "pycharm": {
     "name": "#%%\n"
    }
   },
   "outputs": [],
   "source": [
    "dataset_X, dataset_y, dataset = load_boston_housing_market()"
   ]
  },
  {
   "cell_type": "markdown",
   "id": "63836c02",
   "metadata": {
    "pycharm": {
     "name": "#%% md\n"
    }
   },
   "source": [
    "Compute and display basic statistics from the dataset"
   ]
  },
  {
   "cell_type": "code",
   "execution_count": 3,
   "id": "ad33a589",
   "metadata": {
    "pycharm": {
     "name": "#%%\n"
    }
   },
   "outputs": [
    {
     "name": "stdout",
     "output_type": "stream",
     "text": [
      "The dataset contains 506 samples, and 12 variables (target not included).\n"
     ]
    }
   ],
   "source": [
    "n_samples = len(dataset)\n",
    "n_vars = len(dataset.columns) - 1\n",
    "\n",
    "print(f'The dataset contains {n_samples} samples, and {n_vars} variables (target not included).')"
   ]
  },
  {
   "cell_type": "code",
   "execution_count": 4,
   "id": "e36d7c63",
   "metadata": {
    "pycharm": {
     "name": "#%%\n"
    }
   },
   "outputs": [
    {
     "name": "stdout",
     "output_type": "stream",
     "text": [
      "The first 5 samples from the dataset\n",
      "      CRIM    ZN  INDUS  CHAS    NOX     RM   AGE     DIS  RAD    TAX  PTRATIO  LSTAT  MEDV\n",
      "0  0.00632  18.0   2.31   0.0  0.538  6.575  65.2  4.0900  1.0  296.0     15.3   4.98  24.0\n",
      "1  0.02731   0.0   7.07   0.0  0.469  6.421  78.9  4.9671  2.0  242.0     17.8   9.14  21.6\n",
      "2  0.02729   0.0   7.07   0.0  0.469  7.185  61.1  4.9671  2.0  242.0     17.8   4.03  34.7\n",
      "3  0.03237   0.0   2.18   0.0  0.458  6.998  45.8  6.0622  3.0  222.0     18.7   2.94  33.4\n",
      "4  0.06905   0.0   2.18   0.0  0.458  7.147  54.2  6.0622  3.0  222.0     18.7   5.33  36.2\n"
     ]
    }
   ],
   "source": [
    "print('The first 5 samples from the dataset')\n",
    "print(dataset.head())"
   ]
  },
  {
   "cell_type": "code",
   "execution_count": 5,
   "id": "e1e39a51",
   "metadata": {
    "pycharm": {
     "name": "#%%\n"
    }
   },
   "outputs": [
    {
     "name": "stdout",
     "output_type": "stream",
     "text": [
      "Dataset stats\n",
      "         count        mean         std        min         25%        50%         75%       max\n",
      "CRIM     506.0    3.613524    8.601545    0.00632    0.082045    0.25651    3.677083   88.9762\n",
      "ZN       506.0   11.363636   23.322453    0.00000    0.000000    0.00000   12.500000  100.0000\n",
      "INDUS    506.0   11.136779    6.860353    0.46000    5.190000    9.69000   18.100000   27.7400\n",
      "CHAS     506.0    0.069170    0.253994    0.00000    0.000000    0.00000    0.000000    1.0000\n",
      "NOX      506.0    0.554695    0.115878    0.38500    0.449000    0.53800    0.624000    0.8710\n",
      "RM       506.0    6.284634    0.702617    3.56100    5.885500    6.20850    6.623500    8.7800\n",
      "AGE      506.0   68.574901   28.148861    2.90000   45.025000   77.50000   94.075000  100.0000\n",
      "DIS      506.0    3.795043    2.105710    1.12960    2.100175    3.20745    5.188425   12.1265\n",
      "RAD      506.0    9.549407    8.707259    1.00000    4.000000    5.00000   24.000000   24.0000\n",
      "TAX      506.0  408.237154  168.537116  187.00000  279.000000  330.00000  666.000000  711.0000\n",
      "PTRATIO  506.0   18.455534    2.164946   12.60000   17.400000   19.05000   20.200000   22.0000\n",
      "LSTAT    506.0   12.653063    7.141062    1.73000    6.950000   11.36000   16.955000   37.9700\n",
      "MEDV     506.0   22.532806    9.197104    5.00000   17.025000   21.20000   25.000000   50.0000\n"
     ]
    }
   ],
   "source": [
    "print('Dataset stats')\n",
    "print(dataset.describe().T)"
   ]
  },
  {
   "cell_type": "code",
   "execution_count": 6,
   "id": "2a7722c6",
   "metadata": {
    "pycharm": {
     "name": "#%%\n"
    }
   },
   "outputs": [
    {
     "name": "stdout",
     "output_type": "stream",
     "text": [
      "Count of unique values for each variable\n",
      "   CRIM  ZN  INDUS  CHAS  NOX   RM  AGE  DIS  RAD  TAX  PTRATIO  LSTAT  MEDV\n",
      "0   504  26     76     2   81  446  356  412    9   66       46    455   229\n"
     ]
    }
   ],
   "source": [
    "print('Count of unique values for each variable')\n",
    "counts = dataset.nunique()\n",
    "print(counts.to_frame().T)"
   ]
  },
  {
   "cell_type": "code",
   "execution_count": 7,
   "id": "5f6476ae",
   "metadata": {
    "pycharm": {
     "name": "#%%\n"
    }
   },
   "outputs": [
    {
     "name": "stdout",
     "output_type": "stream",
     "text": [
      "Count number of NaN for each variable\n",
      "   CRIM  ZN  INDUS  CHAS  NOX  RM  AGE  DIS  RAD  TAX  PTRATIO  LSTAT  MEDV\n",
      "0     0   0      0     0    0   0    0    0    0    0        0      0     0\n"
     ]
    }
   ],
   "source": [
    "print('Count number of NaN for each variable')\n",
    "print(dataset.isna().sum().to_frame().T)"
   ]
  },
  {
   "cell_type": "markdown",
   "id": "884c1dee",
   "metadata": {
    "pycharm": {
     "name": "#%% md\n"
    },
    "region_name": "md"
   },
   "source": [
    "Draw box plots for every variable, side by side (each has its own scale)"
   ]
  },
  {
   "cell_type": "code",
   "execution_count": 8,
   "id": "8a38a855",
   "metadata": {
    "pycharm": {
     "name": "#%%\n"
    }
   },
   "outputs": [
    {
     "data": {
      "text/plain": "<Figure size 432x288 with 13 Axes>",
      "image/png": "[encoded data removed]"
     },
     "metadata": {
      "needs_background": "light"
     },
     "output_type": "display_data"
    }
   ],
   "source": [
    "fig, axes = plt.subplots(1, n_vars + 1)\n",
    "# fig.subplots_adjust(wspace=.25)\n",
    "for i, col in enumerate(dataset.columns):\n",
    "    bplot = sns.boxplot(y=dataset[col], ax=axes[i])\n",
    "    bplot.set(ylabel=None)\n",
    "    bplot.set(xlabel=col)\n",
    "fig.tight_layout(pad=0, w_pad=.25, h_pad=0)"
   ]
  },
  {
   "cell_type": "markdown",
   "source": [],
   "metadata": {
    "collapsed": false,
    "pycharm": {
     "name": "#%% md\n"
    }
   }
  },
  {
   "cell_type": "markdown",
   "id": "3166cc16",
   "metadata": {
    "pycharm": {
     "name": "#%% md\n"
    },
    "region_name": "md"
   },
   "source": [
    "We start with a simple (that is, uni-variate) linear regression of MEDV against LSTAT."
   ]
  },
  {
   "cell_type": "markdown",
   "id": "e4037238",
   "metadata": {
    "pycharm": {
     "name": "#%% md\n"
    },
    "region_name": "md"
   },
   "source": [
    "Plotting the distribution of LSTAT values"
   ]
  },
  {
   "cell_type": "code",
   "execution_count": 9,
   "id": "6ec0edd6",
   "metadata": {
    "pycharm": {
     "name": "#%%\n"
    }
   },
   "outputs": [
    {
     "data": {
      "text/plain": "<Figure size 432x288 with 1 Axes>",
      "image/png": "[encoded data removed]"
     },
     "metadata": {
      "needs_background": "light"
     },
     "output_type": "display_data"
    }
   ],
   "source": [
    "plt.hist(dataset['LSTAT'], bins=50);"
   ]
  },
  {
   "cell_type": "markdown",
   "id": "a2da66c7",
   "metadata": {
    "pycharm": {
     "name": "#%% md\n"
    },
    "region_name": "md"
   },
   "source": [
    "Perform the simple linear regression of MEDV against LSTAT and output its stats."
   ]
  },
  {
   "cell_type": "code",
   "execution_count": 10,
   "id": "b1b4865d",
   "metadata": {
    "pycharm": {
     "name": "#%%\n"
    }
   },
   "outputs": [
    {
     "name": "stdout",
     "output_type": "stream",
     "text": [
      "\n",
      "MEDV linear regression against LSTAT has coefficient (slope) -0.9500493537579906 and intercept 34.5538408793831\n",
      "RSS=19472.381; RSE=6.216 on 504 degrees of freedom; R-squared=0.544\n"
     ]
    }
   ],
   "source": [
    "X, y = dataset['LSTAT'].values.reshape(-1, 1), dataset['MEDV'].values\n",
    "model: LinearRegression = LinearRegression().fit(X, y)\n",
    "y_pred = model.predict(X=X)\n",
    "slope = model.coef_[0]\n",
    "intercept = model.intercept_\n",
    "print(f'\\nMEDV linear regression against LSTAT has coefficient (slope) {slope} and intercept {intercept}')\n",
    "r2 = model.score(X, y)\n",
    "rss = np.sum(np.power(y - y_pred, 2))\n",
    "rse = (rss / (n_samples - 2)) ** .5\n",
    "print(f'RSS={rss:.3f}; RSE={rse:.3f} on {n_samples - 2} degrees of freedom; R-squared={r2:.3f}')"
   ]
  },
  {
   "cell_type": "markdown",
   "id": "f6f9c928",
   "metadata": {
    "pycharm": {
     "name": "#%% md\n"
    },
    "region_name": "md"
   },
   "source": [
    "Plot the linear regression against the data."
   ]
  },
  {
   "cell_type": "code",
   "execution_count": 11,
   "id": "2f8644da",
   "metadata": {
    "pycharm": {
     "name": "#%%\n"
    }
   },
   "outputs": [
    {
     "data": {
      "text/plain": "<Figure size 432x288 with 1 Axes>",
      "image/png": "[encoded data removed]"
     },
     "metadata": {
      "needs_background": "light"
     },
     "output_type": "display_data"
    }
   ],
   "source": [
    "_, ax = plt.subplots()\n",
    "ax.scatter(X, y, facecolor='none', edgecolor='blue')\n",
    "ax.plot(X, y_pred, color='black')\n",
    "ax.set_xlabel('LSTAT')\n",
    "ax.set_ylabel('MEDV')\n",
    "ax.set_title('Linear Regression of MEDV over LSTAT');"
   ]
  },
  {
   "cell_type": "markdown",
   "id": "9369fa0a",
   "metadata": {
    "pycharm": {
     "name": "#%% md\n"
    },
    "region_name": "md"
   },
   "source": [
    "Is there a relationship between MEDV and LSTAT? The linear regression plot indicates so, in spite of outliers toward\n",
    "high MEDV values; however, more formally, we want to test the null hypothesis:\n",
    "    -There is no relationship between MEDV and LSTAT"
   ]
  },
  {
   "cell_type": "code",
   "execution_count": 12,
   "id": "7f353492",
   "metadata": {
    "pycharm": {
     "name": "#%%\n"
    }
   },
   "outputs": [
    {
     "name": "stdout",
     "output_type": "stream",
     "text": [
      "The 95% confidence interval for the slope is [-1.028, -0.873]\n",
      "The 95% confidence interval for the intercept is [33.429, 35.679]\n"
     ]
    },
    {
     "data": {
      "text/plain": "<Figure size 432x288 with 1 Axes>",
      "image/png": "[encoded data removed]"
     },
     "metadata": {
      "needs_background": "light"
     },
     "output_type": "display_data"
    }
   ],
   "source": [
    "''' We can get a feeling for how accurate the estimate of slope and intercept are, by determining a confidence interval\n",
    "for them '''\n",
    "X_mean = np.mean(X)\n",
    "se2_slope = rse ** 2 / np.sum(np.power(X - X_mean, 2))\n",
    "se2_intercept = rse ** 2 * (1 / n_samples + X_mean ** 2 / np.sum(np.power(X - X_mean, 2)))\n",
    "print(\n",
    "    f'The 95% confidence interval for the slope is [{slope - 2 * se2_slope ** .5:.3f}, {slope + 2 * se2_slope ** .5:.3f}]')\n",
    "print(\n",
    "    f'The 95% confidence interval for the intercept is [{intercept - 2 * se2_intercept ** .5:.3f}, {intercept + 2 * se2_intercept ** .5:.3f}]')\n",
    "\n",
    "x = np.linspace(np.min(X), np.max(X), n_samples)\n",
    "y_est = slope * x + intercept\n",
    "# y_err = x.std() * np.sqrt(1 / len(x) + (x - x.mean()) ** 2 / np.sum((x - x.mean()) ** 2))\n",
    "y_err = rse * np.sqrt(1 / n_samples + (X - X_mean) ** 2 / np.sum((X - X_mean) ** 2))\n",
    "y_err = y_err.squeeze()\n",
    "\n",
    "_, ax = plt.subplots()\n",
    "ax.plot(x, y_est, '-')\n",
    "ax.fill_between(x, y_est - y_err, y_est + y_err, alpha=0.2)\n",
    "ax.plot(X, y, 'o', color='tab:brown');"
   ]
  },
  {
   "cell_type": "markdown",
   "id": "f6358f0a",
   "metadata": {
    "pycharm": {
     "name": "#%% md\n"
    },
    "region_name": "md"
   },
   "source": [
    "Let's do it again, this time with Statsmodel"
   ]
  },
  {
   "cell_type": "code",
   "execution_count": 13,
   "id": "c6192906",
   "metadata": {
    "pycharm": {
     "name": "#%%\n"
    }
   },
   "outputs": [
    {
     "name": "stdout",
     "output_type": "stream",
     "text": [
      "                            OLS Regression Results                            \n",
      "==============================================================================\n",
      "Dep. Variable:                      y   R-squared:                       0.544\n",
      "Model:                            OLS   Adj. R-squared:                  0.543\n",
      "Method:                 Least Squares   F-statistic:                     601.6\n",
      "Date:                Tue, 17 May 2022   Prob (F-statistic):           5.08e-88\n",
      "Time:                        16:09:43   Log-Likelihood:                -1641.5\n",
      "No. Observations:                 506   AIC:                             3287.\n",
      "Df Residuals:                     504   BIC:                             3295.\n",
      "Df Model:                           1                                         \n",
      "Covariance Type:            nonrobust                                         \n",
      "==============================================================================\n",
      "                 coef    std err          t      P>|t|      [0.025      0.975]\n",
      "------------------------------------------------------------------------------\n",
      "x1            -0.9500      0.039    -24.528      0.000      -1.026      -0.874\n",
      "const         34.5538      0.563     61.415      0.000      33.448      35.659\n",
      "==============================================================================\n",
      "Omnibus:                      137.043   Durbin-Watson:                   0.892\n",
      "Prob(Omnibus):                  0.000   Jarque-Bera (JB):              291.373\n",
      "Skew:                           1.453   Prob(JB):                     5.36e-64\n",
      "Kurtosis:                       5.319   Cond. No.                         29.7\n",
      "==============================================================================\n",
      "\n",
      "Notes:\n",
      "[1] Standard Errors assume that the covariance matrix of the errors is correctly specified.\n"
     ]
    }
   ],
   "source": [
    "X_exog = sm.add_constant(X, prepend=False)  # TODO this is needed for correct result, but why?\n",
    "model_sm = sm.OLS(y, X_exog)\n",
    "res = model_sm.fit()\n",
    "print(res.summary())"
   ]
  },
  {
   "cell_type": "code",
   "execution_count": 14,
   "outputs": [
    {
     "data": {
      "text/plain": "<Figure size 432x288 with 2 Axes>",
      "image/png": "[encoded data removed]"
     },
     "metadata": {
      "needs_background": "light"
     },
     "output_type": "display_data"
    }
   ],
   "source": [
    "residuals = y_pred - y\n",
    "_, ax = plt.subplots()\n",
    "ax.set_title('Empirical distribution of residuals')\n",
    "ax.set_ylabel('Binned distr.')\n",
    "ax.hist(residuals, 50)\n",
    "ax.grid(visible=False)\n",
    "sorted_residuals = np.sort(residuals)\n",
    "cum_prob = 1. * np.arange(len(sorted_residuals)) / float(len(sorted_residuals) - 1)\n",
    "# prob_dens = cum_prob /\n",
    "ax2 = ax.twinx()\n",
    "ax2.set_ylabel('Cumulative distr.', color='red')\n",
    "ax2.plot(sorted_residuals, cum_prob, color='red');"
   ],
   "metadata": {
    "collapsed": false,
    "pycharm": {
     "name": "#%%\n"
    }
   }
  },
  {
   "cell_type": "markdown",
   "id": "875e93e3",
   "metadata": {
    "pycharm": {
     "name": "#%% md\n"
    },
    "region_name": "md"
   },
   "source": [
    "Now let's do some multi-variate regression"
   ]
  },
  {
   "cell_type": "code",
   "execution_count": 15,
   "outputs": [],
   "source": [
    "'''\n",
    "TODO\n",
    "- My confidence intervale is 95% instead of 97.5%, difficult to compare with those provided by R and Statsmodel;\n",
    "also my CI seem inconsistent with those provided by R and Statsmodel\n",
    "- Not clear how to compute and plot the bands of uncertainty around the linear regression, i.e. the CI for a given\n",
    "inference; see y_err above\n",
    "Note: se2_intercept and se2_slope appear to be correct when compared to R output\n",
    "''';"
   ],
   "metadata": {
    "collapsed": false,
    "pycharm": {
     "name": "#%%\n"
    }
   }
  },
  {
   "cell_type": "code",
   "execution_count": 16,
   "id": "432c8353",
   "metadata": {
    "pycharm": {
     "name": "#%%\n"
    }
   },
   "outputs": [
    {
     "name": "stdout",
     "output_type": "stream",
     "text": [
      "Coefficients of multi-variate linear regression, with intercept 41.617270\n",
      "       CRIM        ZN     INDUS      CHAS        NOX        RM       AGE       DIS       RAD       TAX   PTRATIO     LSTAT\n",
      "0 -0.121389  0.046963  0.013468  2.839993 -18.758022  3.658119  0.003611 -1.490754  0.289405 -0.012682 -0.937533 -0.552019\n"
     ]
    }
   ],
   "source": [
    "X, y = dataset_X, dataset_y\n",
    "mv_model: LinearRegression = LinearRegression().fit(X, y)\n",
    "coeffs = pd.Series(mv_model.coef_, index=mv_model.feature_names_in_)\n",
    "print(f'Coefficients of multi-variate linear regression, with intercept {mv_model.intercept_:.6f}')\n",
    "print(coeffs.to_frame().T)"
   ]
  },
  {
   "cell_type": "code",
   "execution_count": 17,
   "outputs": [
    {
     "name": "stdout",
     "output_type": "stream",
     "text": [
      "RSS=11349.419; RSE=4.745 on 504 degrees of freedom; R-squared=0.734\n",
      "\n",
      "The correlation matrix\n",
      "             CRIM        ZN     INDUS      CHAS       NOX        RM       AGE       DIS       RAD       TAX   PTRATIO     LSTAT      MEDV\n",
      "CRIM     1.000000 -0.200469  0.406583 -0.055892  0.420972 -0.219247  0.352734 -0.379670  0.625505  0.582764  0.289946  0.455621 -0.388305\n",
      "ZN      -0.200469  1.000000 -0.533828 -0.042697 -0.516604  0.311991 -0.569537  0.664408 -0.311948 -0.314563 -0.391679 -0.412995  0.360445\n",
      "INDUS    0.406583 -0.533828  1.000000  0.062938  0.763651 -0.391676  0.644779 -0.708027  0.595129  0.720760  0.383248  0.603800 -0.483725\n",
      "CHAS    -0.055892 -0.042697  0.062938  1.000000  0.091203  0.091251  0.086518 -0.099176 -0.007368 -0.035587 -0.121515 -0.053929  0.175260\n",
      "NOX      0.420972 -0.516604  0.763651  0.091203  1.000000 -0.302188  0.731470 -0.769230  0.611441  0.668023  0.188933  0.590879 -0.427321\n",
      "RM      -0.219247  0.311991 -0.391676  0.091251 -0.302188  1.000000 -0.240265  0.205246 -0.209847 -0.292048 -0.355501 -0.613808  0.695360\n",
      "AGE      0.352734 -0.569537  0.644779  0.086518  0.731470 -0.240265  1.000000 -0.747881  0.456022  0.506456  0.261515  0.602339 -0.376955\n",
      "DIS     -0.379670  0.664408 -0.708027 -0.099176 -0.769230  0.205246 -0.747881  1.000000 -0.494588 -0.534432 -0.232471 -0.496996  0.249929\n",
      "RAD      0.625505 -0.311948  0.595129 -0.007368  0.611441 -0.209847  0.456022 -0.494588  1.000000  0.910228  0.464741  0.488676 -0.381626\n",
      "TAX      0.582764 -0.314563  0.720760 -0.035587  0.668023 -0.292048  0.506456 -0.534432  0.910228  1.000000  0.460853  0.543993 -0.468536\n",
      "PTRATIO  0.289946 -0.391679  0.383248 -0.121515  0.188933 -0.355501  0.261515 -0.232471  0.464741  0.460853  1.000000  0.374044 -0.507787\n",
      "LSTAT    0.455621 -0.412995  0.603800 -0.053929  0.590879 -0.613808  0.602339 -0.496996  0.488676  0.543993  0.374044  1.000000 -0.737663\n",
      "MEDV    -0.388305  0.360445 -0.483725  0.175260 -0.427321  0.695360 -0.376955  0.249929 -0.381626 -0.468536 -0.507787 -0.737663  1.000000\n"
     ]
    }
   ],
   "source": [
    "y_pred = mv_model.predict(X)\n",
    "mse = mean_squared_error(y, y_pred)\n",
    "\n",
    "r2 = mv_model.score(X, y)\n",
    "rss = np.sum(np.power(y - y_pred, 2))\n",
    "rse = (rss / (n_samples - 2)) ** .5\n",
    "print(f'RSS={rss:.3f}; RSE={rse:.3f} on {n_samples - 2} degrees of freedom; R-squared={r2:.3f}')\n",
    "print('\\nThe correlation matrix')\n",
    "corr_matrix = dataset.corr()\n",
    "print(corr_matrix)"
   ],
   "metadata": {
    "collapsed": false,
    "pycharm": {
     "name": "#%%\n"
    }
   }
  },
  {
   "cell_type": "markdown",
   "id": "29c539d8",
   "metadata": {
    "pycharm": {
     "name": "#%% md\n"
    },
    "region_name": "md"
   },
   "source": [
    "Display the correlation matrix as a heatmap with Seaborn"
   ]
  },
  {
   "cell_type": "code",
   "execution_count": 18,
   "id": "026c6cae",
   "metadata": {
    "pycharm": {
     "name": "#%%\n"
    }
   },
   "outputs": [
    {
     "data": {
      "text/plain": "<Figure size 432x288 with 2 Axes>",
      "image/png": "[encoded data removed]"
     },
     "metadata": {
      "needs_background": "light"
     },
     "output_type": "display_data"
    }
   ],
   "source": [
    "plt.subplots()\n",
    "corr_matrix_rounded = corr_matrix.round(decimals=1)\n",
    "ax = sns.heatmap(corr_matrix_rounded,\n",
    "                 vmin=-1,\n",
    "                 vmax=1,\n",
    "                 center=0,\n",
    "                 cmap=sns.diverging_palette(20, 220, n=200),\n",
    "                 square=True,\n",
    "                 annot=True)\n",
    "ax.set_xticklabels(ax.get_xticklabels(),\n",
    "                   rotation=45,\n",
    "                   horizontalalignment='right');"
   ]
  },
  {
   "cell_type": "markdown",
   "source": [
    "There are several pairs of variables with a comparatively high (positive or negative) correlation, such as RAD and TAX (0.9), NOX and INDUS (0.8), DIS and NOX (-0.8)."
   ],
   "metadata": {
    "collapsed": false,
    "pycharm": {
     "name": "#%% md\n"
    }
   }
  },
  {
   "cell_type": "code",
   "execution_count": 19,
   "outputs": [
    {
     "name": "stdout",
     "output_type": "stream",
     "text": [
      "[0.34535354 0.1806376  0.47168449 0.02953879 0.46461582 0.53065846\n",
      " 0.31033181 0.29494317 0.22724087 0.36820861 0.44816208 0.67098128]\n"
     ]
    }
   ],
   "source": [
    "# res = f_regression(dataset_X, dataset_y)\n",
    "res = mutual_info_regression(dataset_X, dataset_y)\n",
    "print(res)"
   ],
   "metadata": {
    "collapsed": false,
    "pycharm": {
     "name": "#%%\n"
    }
   }
  },
  {
   "cell_type": "markdown",
   "id": "04cd12cc",
   "metadata": {
    "lines_to_next_cell": 0,
    "pycharm": {
     "name": "#%% md\n"
    },
    "region_name": "md"
   },
   "source": [
    "Let's give it a spin with Statsmodel"
   ]
  },
  {
   "cell_type": "code",
   "execution_count": 20,
   "id": "2413e8a5",
   "metadata": {
    "pycharm": {
     "name": "#%%\n"
    }
   },
   "outputs": [
    {
     "name": "stdout",
     "output_type": "stream",
     "text": [
      "Summary of multi-variate linear regression with Statsmodel\n",
      "\n",
      "                             OLS Regression Results                            \n",
      "==============================================================================\n",
      "Dep. Variable:                      y   R-squared:                       0.734\n",
      "Model:                            OLS   Adj. R-squared:                  0.728\n",
      "Method:                 Least Squares   F-statistic:                     113.5\n",
      "Date:                Tue, 17 May 2022   Prob (F-statistic):          2.23e-133\n",
      "Time:                        16:09:43   Log-Likelihood:                -1504.9\n",
      "No. Observations:                 506   AIC:                             3036.\n",
      "Df Residuals:                     493   BIC:                             3091.\n",
      "Df Model:                          12                                         \n",
      "Covariance Type:            nonrobust                                         \n",
      "==============================================================================\n",
      "                 coef    std err          t      P>|t|      [0.025      0.975]\n",
      "------------------------------------------------------------------------------\n",
      "CRIM          -0.1214      0.033     -3.678      0.000      -0.186      -0.057\n",
      "ZN             0.0470      0.014      3.384      0.001       0.020       0.074\n",
      "INDUS          0.0135      0.062      0.217      0.829      -0.109       0.136\n",
      "CHAS           2.8400      0.870      3.264      0.001       1.131       4.549\n",
      "NOX          -18.7580      3.851     -4.870      0.000     -26.325     -11.191\n",
      "RM             3.6581      0.420      8.705      0.000       2.832       4.484\n",
      "AGE            0.0036      0.013      0.271      0.787      -0.023       0.030\n",
      "DIS           -1.4908      0.202     -7.394      0.000      -1.887      -1.095\n",
      "RAD            0.2894      0.067      4.325      0.000       0.158       0.421\n",
      "TAX           -0.0127      0.004     -3.337      0.001      -0.020      -0.005\n",
      "PTRATIO       -0.9375      0.132     -7.091      0.000      -1.197      -0.678\n",
      "LSTAT         -0.5520      0.051    -10.897      0.000      -0.652      -0.452\n",
      "const         41.6173      4.936      8.431      0.000      31.919      51.316\n",
      "==============================================================================\n",
      "Omnibus:                      171.096   Durbin-Watson:                   1.077\n",
      "Prob(Omnibus):                  0.000   Jarque-Bera (JB):              709.937\n",
      "Skew:                           1.477   Prob(JB):                    6.90e-155\n",
      "Kurtosis:                       7.995   Cond. No.                     1.17e+04\n",
      "==============================================================================\n",
      "\n",
      "Notes:\n",
      "[1] Standard Errors assume that the covariance matrix of the errors is correctly specified.\n",
      "[2] The condition number is large, 1.17e+04. This might indicate that there are\n",
      "strong multicollinearity or other numerical problems.\n"
     ]
    }
   ],
   "source": [
    "print('Summary of multi-variate linear regression with Statsmodel')\n",
    "X_exog = sm.add_constant(dataset_X, prepend=False)  # TODO this is needed for correct result, but why?\n",
    "model_sm = sm.OLS(dataset_y, X_exog)\n",
    "res = model_sm.fit()\n",
    "print('\\n', res.summary())"
   ]
  },
  {
   "cell_type": "markdown",
   "source": [
    "## Some Important questions\n",
    "We now direct our attention to a few important questions that multiple linear regression can answer, following the trrack given by Sec. 3.2.2 of [1]."
   ],
   "metadata": {
    "collapsed": false,
    "pycharm": {
     "name": "#%% md\n"
    }
   }
  },
  {
   "cell_type": "markdown",
   "source": [
    "### Is at least on of the predictors useful in predicting the response?\n",
    "\n",
    "More formally, we want to test the null hypothesis:\n",
    "- all the coefficients of the multiple linear regression are 0;\n",
    "\n",
    "versus the alternative:\n",
    "- at least one of the coefficients in non 0.\n",
    "\n",
    "The coefficients mentioned above do not include the intercept.\n",
    "\n",
    "To find out, we will use the F-statistic:\n",
    "$$\n",
    "F=\\frac{(TSS-RSS)/p}{RSS/(n-p-1)}\n",
    "$$\n",
    "\n",
    "Where $TSS=\\sum_{}^{} (y_i-\\bar y_i^2)$ is the total sum of squares for the response, $RSS$ is the residual sum of squares, $p$ is the number of variables and $n$ the number of samples.\n",
    "\n",
    "When the null hypothesis is true, the F-statistic is close to 1; otherwise it is greater than 1. In our case:"
   ],
   "metadata": {
    "collapsed": false,
    "pycharm": {
     "name": "#%% md\n"
    }
   },
   "outputs": []
  },
  {
   "cell_type": "code",
   "execution_count": 21,
   "outputs": [
    {
     "name": "stdout",
     "output_type": "stream",
     "text": [
      "The F-statistic is 113.54377426836396\n"
     ]
    }
   ],
   "source": [
    "print(f'The F-statistic is {res.fvalue}')"
   ],
   "metadata": {
    "collapsed": false,
    "pycharm": {
     "name": "#%%\n"
    }
   }
  },
  {
   "cell_type": "markdown",
   "source": [
    "One can claim that the F-statistic is subjectively much larger than 1, which leads us to reject $H_0$, but a rigorous test is in order: assuming the errors $\\epsilon_i$ are normally distributed, the F-statistic follow an F-distribution [2]. We can use Statsmodels to compute the p-value for the F-statistic:"
   ],
   "metadata": {
    "collapsed": false,
    "pycharm": {
     "name": "#%% md\n"
    }
   }
  },
  {
   "cell_type": "code",
   "execution_count": 22,
   "outputs": [
    {
     "name": "stdout",
     "output_type": "stream",
     "text": [
      "P-value for the F-statistic is 2.2304199237254893e-133\n"
     ]
    }
   ],
   "source": [
    "print(f'P-value for the F-statistic is {res.f_pvalue}')"
   ],
   "metadata": {
    "collapsed": false,
    "pycharm": {
     "name": "#%%\n"
    }
   }
  },
  {
   "cell_type": "markdown",
   "source": [
    "The p-value is essentially 0, giving us confidence in rejecting $H_0$."
   ],
   "metadata": {
    "collapsed": false,
    "pycharm": {
     "name": "#%% md\n"
    }
   }
  },
  {
   "cell_type": "code",
   "execution_count": 23,
   "outputs": [],
   "source": [
    "#TODO better to rely on R squared or F, and why? What's the difference?"
   ],
   "metadata": {
    "collapsed": false,
    "pycharm": {
     "name": "#%%\n"
    }
   }
  },
  {
   "cell_type": "markdown",
   "source": [
    "## What are the important variables? That make for good predictors."
   ],
   "metadata": {
    "collapsed": false,
    "pycharm": {
     "name": "#%% md\n"
    }
   }
  },
  {
   "cell_type": "markdown",
   "source": [
    "We perform a forward selection based on the $R^2$ statistic. Variables are added to the selection one at a time, every time picking the one that increases the resulting $R^2$ statistic the most. The process continues until either all variables have been selected, or adding any more variable would decrease the resulting $R^2$ statistic."
   ],
   "metadata": {
    "collapsed": false,
    "pycharm": {
     "name": "#%% md\n"
    }
   }
  },
  {
   "cell_type": "code",
   "execution_count": 24,
   "outputs": [
    {
     "name": "stdout",
     "output_type": "stream",
     "text": [
      "   Variable  R-square\n",
      "0     LSTAT  0.544146\n",
      "1        RM  0.638562\n",
      "2   PTRATIO  0.678624\n",
      "3       DIS  0.690308\n",
      "4       NOX  0.708089\n",
      "5      CHAS  0.715774\n",
      "6        ZN  0.719623\n",
      "7      CRIM  0.723624\n",
      "8       RAD  0.727253\n",
      "9       TAX  0.734242\n",
      "10      AGE  0.734282\n",
      "11    INDUS  0.734307\n"
     ]
    }
   ],
   "source": [
    "vars, vars_r2 = forward_select(LinearRegression, dataset_X, dataset_y)\n",
    "res = pd.DataFrame({'Variable': vars, 'R-square': vars_r2})\n",
    "print(res)"
   ],
   "metadata": {
    "collapsed": false,
    "pycharm": {
     "name": "#%%\n"
    }
   }
  },
  {
   "cell_type": "markdown",
   "source": [
    "LSTAT is the first variable that has been selected, the one that single-handedly provides the highest $R^2$; RM has been the second one, and so on, with INDUS selected last. In this case, all of the variables have been selected by forward selection based on $R^2$."
   ],
   "metadata": {
    "collapsed": false,
    "pycharm": {
     "name": "#%% md\n"
    }
   }
  },
  {
   "cell_type": "code",
   "execution_count": 25,
   "outputs": [],
   "source": [
    "# The last cell"
   ],
   "metadata": {
    "collapsed": false,
    "pycharm": {
     "name": "#%%\n"
    }
   }
  }
 ],
 "metadata": {
  "jupytext": {
   "cell_metadata_filter": "region_name,-all",
   "main_language": "python",
   "notebook_metadata_filter": "-all"
  },
  "kernelspec": {
   "display_name": "Python 3 (ipykernel)",
   "language": "python",
   "name": "python3"
  },
  "language_info": {
   "codemirror_mode": {
    "name": "ipython",
    "version": 3
   },
   "file_extension": ".py",
   "mimetype": "text/x-python",
   "name": "python",
   "nbconvert_exporter": "python",
   "pygments_lexer": "ipython3",
   "version": "3.8.10"
  }
 },
 "nbformat": 4,
 "nbformat_minor": 5
}